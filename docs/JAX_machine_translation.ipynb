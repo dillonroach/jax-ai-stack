{
 "cells": [
  {
   "cell_type": "markdown",
   "id": "ee3e1116-f6cd-497e-b617-1d89d5d1f744",
   "metadata": {},
   "source": [
    "# NLP: JAX Machine Translation"
   ]
  },
  {
   "cell_type": "markdown",
   "id": "50f0bd58-dcc6-41f4-9dc4-3a08c8ef751b",
   "metadata": {},
   "source": [
    "Adapted from https://keras.io/examples/nlp/neural_machine_translation_with_transformer/, which is itself an adaptation from https://www.manning.com/books/deep-learning-with-python-second-edition\n",
    "\n",
    "We step through an encoder-decoder transformer in JAX and train a model for English->Spanish translation."
   ]
  },
  {
   "cell_type": "code",
   "execution_count": 2,
   "id": "dd506ffa-3b91-44f1-92d1-a08ed933e78e",
   "metadata": {},
   "outputs": [],
   "source": [
    "import os\n",
    "\n",
    "import pathlib\n",
    "import random\n",
    "import string\n",
    "import re\n",
    "import numpy as np\n",
    "\n",
    "import jax\n",
    "import jax.numpy as jnp\n",
    "import optax\n",
    "\n",
    "from flax import nnx\n",
    "\n",
    "import tiktoken"
   ]
  },
  {
   "cell_type": "markdown",
   "id": "e1f324b0-140a-48fa-9fcb-d6308f098343",
   "metadata": {},
   "source": [
    "## Pull down data to temp and extract into memory\n",
    "\n",
    "There are lots of ways to get this done, but for simplicity and clear visibility into what's happening this is downloaded to a temporary directory, extracted there, and read into a python object with processing."
   ]
  },
  {
   "cell_type": "code",
   "execution_count": 3,
   "id": "102943a5-8724-48e0-8d6a-f56069f03426",
   "metadata": {},
   "outputs": [],
   "source": [
    "import requests\n",
    "import zipfile\n",
    "import tempfile\n",
    "\n",
    "url = \"http://storage.googleapis.com/download.tensorflow.org/data/spa-eng.zip\"\n",
    "\n",
    "with tempfile.TemporaryDirectory() as temp_dir:\n",
    "    temp_path = pathlib.Path(temp_dir)\n",
    "    zip_file_path = temp_path / \"spa-eng.zip\"\n",
    "\n",
    "    response = requests.get(url)\n",
    "    zip_file_path.write_bytes(response.content)\n",
    "\n",
    "    with zipfile.ZipFile(zip_file_path, \"r\") as zip_ref:\n",
    "        zip_ref.extractall(temp_path)\n",
    "\n",
    "    text_file = temp_path / \"spa-eng\" / \"spa.txt\"\n",
    "\n",
    "    with open(text_file) as f:\n",
    "        lines = f.read().split(\"\\n\")[:-1]\n",
    "    text_pairs = []\n",
    "    for line in lines:\n",
    "        eng, spa = line.split(\"\\t\")\n",
    "        spa = \"[start] \" + spa + \" [end]\"\n",
    "        text_pairs.append((eng, spa))"
   ]
  },
  {
   "cell_type": "markdown",
   "id": "9524904b-fa17-493f-bcfa-335963cb7c45",
   "metadata": {},
   "source": [
    "## Build train/validate/test pair sets\n",
    "We'll stay close to the original tutorial so it's clear how to follow what's the same vs what's different; one early difference is the choice to go with an off-the-shelf encoder/tokenizer in tiktoken. Specifically \"cl100k_base\" - it has a wide range of language understanding and it's fast."
   ]
  },
  {
   "cell_type": "code",
   "execution_count": 4,
   "id": "bee9f1b0-5f74-47dc-a7e1-a4ea3be1ef7f",
   "metadata": {},
   "outputs": [
    {
     "name": "stdout",
     "output_type": "stream",
     "text": [
      "118964 total pairs\n",
      "83276 training pairs\n",
      "17844 validation pairs\n",
      "17844 test pairs\n"
     ]
    }
   ],
   "source": [
    "random.shuffle(text_pairs)\n",
    "num_val_samples = int(0.15 * len(text_pairs))\n",
    "num_train_samples = len(text_pairs) - 2 * num_val_samples\n",
    "train_pairs = text_pairs[:num_train_samples]\n",
    "val_pairs = text_pairs[num_train_samples : num_train_samples + num_val_samples]\n",
    "test_pairs = text_pairs[num_train_samples + num_val_samples :]\n",
    "\n",
    "print(f\"{len(text_pairs)} total pairs\")\n",
    "print(f\"{len(train_pairs)} training pairs\")\n",
    "print(f\"{len(val_pairs)} validation pairs\")\n",
    "print(f\"{len(test_pairs)} test pairs\")"
   ]
  },
  {
   "cell_type": "code",
   "execution_count": 5,
   "id": "fd1f61fe-e4b7-479d-917e-f609ebe482e9",
   "metadata": {},
   "outputs": [],
   "source": [
    "tokenizer = tiktoken.get_encoding(\"cl100k_base\")"
   ]
  },
  {
   "cell_type": "markdown",
   "id": "a714c4ea-9ff6-4dab-ae9c-1a884d4857e7",
   "metadata": {},
   "source": [
    "We strip out punctuation to keep things simple and in line with the original tutorial - the `[` `]` are kept in so that our `[start]` and `[end]` formatting is preserved."
   ]
  },
  {
   "cell_type": "code",
   "execution_count": 6,
   "id": "07e054d3-a20c-4aed-8f8a-fb5158df8e5b",
   "metadata": {},
   "outputs": [],
   "source": [
    "strip_chars = string.punctuation + \"¿\"\n",
    "strip_chars = strip_chars.replace(\"[\", \"\")\n",
    "strip_chars = strip_chars.replace(\"]\", \"\")\n",
    "\n",
    "vocab_size = tokenizer.n_vocab\n",
    "sequence_length = 20"
   ]
  },
  {
   "cell_type": "code",
   "execution_count": 7,
   "id": "e2b3e5b3-8466-4c81-99da-0559c88b25ef",
   "metadata": {},
   "outputs": [],
   "source": [
    "def custom_standardization(input_string):\n",
    "    lowercase = input_string.lower()\n",
    "    return re.sub(f\"[{re.escape(strip_chars)}]\", \"\", lowercase)"
   ]
  },
  {
   "cell_type": "code",
   "execution_count": 8,
   "id": "5bdc0673-9723-45b5-8a42-2152295df69b",
   "metadata": {},
   "outputs": [],
   "source": [
    "def tokenize_and_pad(text, tokenizer, max_length):\n",
    "    tokens = tokenizer.encode(text)[:max_length]\n",
    "    padded = tokens + [0] * (max_length - len(tokens)) if len(tokens) < max_length else tokens ##assumes list-like - (https://github.com/openai/tiktoken/blob/main/tiktoken/core.py#L81 current tiktoken out)\n",
    "    return padded"
   ]
  },
  {
   "cell_type": "code",
   "execution_count": 9,
   "id": "235b1221-e72d-4793-addd-7bb870bd8e75",
   "metadata": {},
   "outputs": [],
   "source": [
    "def format_dataset(eng, spa, tokenizer, sequence_length):\n",
    "    eng = custom_standardization(eng)\n",
    "    spa = custom_standardization(spa)\n",
    "    eng = tokenize_and_pad(eng, tokenizer, sequence_length)\n",
    "    spa = tokenize_and_pad(spa, tokenizer, sequence_length)\n",
    "    return {\n",
    "            \"encoder_inputs\": eng,\n",
    "            \"decoder_inputs\": spa[:-1],\n",
    "            \"target_output\": spa[1:],\n",
    "            }"
   ]
  },
  {
   "cell_type": "code",
   "execution_count": 10,
   "id": "ca013d07-1504-42cc-906f-2fcacc757008",
   "metadata": {},
   "outputs": [],
   "source": [
    "train_data = [format_dataset(eng, spa, tokenizer, sequence_length) for eng, spa in train_pairs]\n",
    "val_data = [format_dataset(eng, spa, tokenizer, sequence_length) for eng, spa in val_pairs]\n",
    "test_data = [format_dataset(eng, spa, tokenizer, sequence_length) for eng, spa in test_pairs]"
   ]
  },
  {
   "cell_type": "markdown",
   "id": "90bbae98-48dd-4ae4-99bb-92336d7c0a1c",
   "metadata": {},
   "source": [
    "At this point we've extracted the data, applied formatting, and tokenized the phrases with padding. The data is kept in train/validate/test sets that each have dictionary entries, which look like the following:"
   ]
  },
  {
   "cell_type": "code",
   "execution_count": 11,
   "id": "dcbfa780-553f-41f6-8b3e-55955db78b2a",
   "metadata": {},
   "outputs": [
    {
     "name": "stdout",
     "output_type": "stream",
     "text": [
      "{'encoder_inputs': [9514, 265, 3339, 264, 2466, 16930, 1618, 0, 0, 0, 0, 0, 0, 0, 0, 0, 0, 0, 0, 0], 'decoder_inputs': [29563, 60, 1826, 7206, 71086, 37116, 653, 16109, 1493, 54189, 510, 408, 60, 0, 0, 0, 0, 0, 0], 'target_output': [60, 1826, 7206, 71086, 37116, 653, 16109, 1493, 54189, 510, 408, 60, 0, 0, 0, 0, 0, 0, 0]}\n"
     ]
    }
   ],
   "source": [
    "## data selection example\n",
    "print(train_data[135])"
   ]
  },
  {
   "cell_type": "markdown",
   "id": "24c6271b-e359-4aba-a583-f18c40eddba9",
   "metadata": {},
   "source": [
    "The output should look something like\n",
    "\n",
    "{'encoder_inputs': [9514, 265, 3339, 264, 2466, 16930, 1618, 0, 0, 0, 0, 0, 0, 0, 0, 0, 0, 0, 0, 0], 'decoder_inputs': [29563, 60, 1826, 7206, 71086, 37116, 653, 16109, 1493, 54189, 510, 408, 60, 0, 0, 0, 0, 0, 0], 'target_output': [60, 1826, 7206, 71086, 37116, 653, 16109, 1493, 54189, 510, 408, 60, 0, 0, 0, 0, 0, 0, 0]}"
   ]
  },
  {
   "cell_type": "markdown",
   "id": "7a906a05-bd17-4a47-afe0-4422d2ea0f50",
   "metadata": {},
   "source": [
    "## Define Transformer components: Encoder, Decoder, Positional Embed\n",
    "\n",
    "In many ways this is very similar to the original source, with `ops` changing to `jnp` and `keras` or `layers` becoming `nnx`. Certain module-specific arguments come and go, like the rngs attached to most things in the updated version, and decode=False in the MultiHeadAttention call."
   ]
  },
  {
   "cell_type": "code",
   "execution_count": 12,
   "id": "121bf138-34b3-4be9-a0fc-3bbac81f469a",
   "metadata": {},
   "outputs": [],
   "source": [
    "class TransformerEncoder(nnx.Module):\n",
    "    def __init__(self, embed_dim: int, dense_dim: int, num_heads: int, rngs: nnx.Rngs, **kwargs):\n",
    "        self.embed_dim = embed_dim\n",
    "        self.dense_dim = dense_dim\n",
    "        self.num_heads = num_heads\n",
    "\n",
    "        self.attention = nnx.MultiHeadAttention(num_heads=num_heads,\n",
    "                                          in_features=embed_dim,\n",
    "                                          decode=False,\n",
    "                                          rngs=rngs) \n",
    "        self.dense_proj = nnx.Sequential(\n",
    "                nnx.Linear(embed_dim, dense_dim, rngs=rngs),\n",
    "                nnx.relu,\n",
    "                nnx.Linear(dense_dim, embed_dim, rngs=rngs),\n",
    "        )\n",
    "        \n",
    "        self.layernorm_1 = nnx.LayerNorm(embed_dim, rngs=rngs)\n",
    "        self.layernorm_2 = nnx.LayerNorm(embed_dim, rngs=rngs)\n",
    "\n",
    "    def __call__(self, inputs, mask=None):\n",
    "        if mask is not None:\n",
    "            padding_mask = jnp.expand_dims(mask, axis=1).astype(jnp.int32)\n",
    "        else:\n",
    "            padding_mask = None\n",
    "\n",
    "        attention_output = self.attention(\n",
    "            inputs_q = inputs, inputs_k = inputs, inputs_v = inputs, mask=padding_mask, decode = False\n",
    "        )\n",
    "        proj_input = self.layernorm_1(inputs + attention_output)\n",
    "        proj_output = self.dense_proj(proj_input)\n",
    "        return self.layernorm_2(proj_input + proj_output)\n",
    "\n",
    "\n",
    "class PositionalEmbedding(nnx.Module):\n",
    "    def __init__(self, sequence_length: int, vocab_size: int, embed_dim: int, rngs: nnx.Rngs, **kwargs):\n",
    "        self.token_embeddings = nnx.Embed(num_embeddings=vocab_size, features=embed_dim, rngs=rngs)\n",
    "        self.position_embeddings = nnx.Embed(num_embeddings=sequence_length, features=embed_dim, rngs=rngs)\n",
    "        self.sequence_length = sequence_length\n",
    "        self.vocab_size = vocab_size\n",
    "        self.embed_dim = embed_dim\n",
    "\n",
    "    def __call__(self, inputs):\n",
    "        length = inputs.shape[1]\n",
    "        positions = jnp.arange(0, length)[None, :]\n",
    "        embedded_tokens = self.token_embeddings(inputs)\n",
    "        embedded_positions = self.position_embeddings(positions)\n",
    "        return embedded_tokens + embedded_positions\n",
    "\n",
    "    def compute_mask(self, inputs, mask=None):\n",
    "        if mask is None:\n",
    "            return None\n",
    "        else:\n",
    "            return jnp.not_equal(inputs, 0)\n",
    "\n",
    "class TransformerDecoder(nnx.Module):\n",
    "    def __init__(self, embed_dim: int, latent_dim: int, num_heads: int, rngs: nnx.Rngs, **kwargs):\n",
    "        self.embed_dim = embed_dim\n",
    "        self.latent_dim = latent_dim\n",
    "        self.num_heads = num_heads\n",
    "        self.attention_1 = nnx.MultiHeadAttention(num_heads=num_heads,\n",
    "                                  in_features=embed_dim,\n",
    "                                  decode=False,\n",
    "                                  rngs=rngs)\n",
    "        self.attention_2 = nnx.MultiHeadAttention(num_heads=num_heads,\n",
    "                                  in_features=embed_dim,\n",
    "                                  decode=False,\n",
    "                                  rngs=rngs)\n",
    "\n",
    "        self.dense_proj = nnx.Sequential(\n",
    "                nnx.Linear(embed_dim, latent_dim, rngs=rngs),\n",
    "                nnx.relu,\n",
    "                nnx.Linear(latent_dim, embed_dim, rngs=rngs),\n",
    "        )\n",
    "        self.layernorm_1 = nnx.LayerNorm(embed_dim, rngs=rngs)\n",
    "        self.layernorm_2 = nnx.LayerNorm(embed_dim, rngs=rngs)\n",
    "        self.layernorm_3 = nnx.LayerNorm(embed_dim, rngs=rngs)\n",
    "\n",
    "    def __call__(self, inputs, encoder_outputs, mask=None):\n",
    "        causal_mask = self.get_causal_attention_mask(inputs.shape[1])\n",
    "        if mask is not None:\n",
    "            padding_mask = jnp.expand_dims(mask, axis=1).astype(jnp.int32)\n",
    "            padding_mask = jnp.minimum(padding_mask, causal_mask)\n",
    "        else:\n",
    "            padding_mask = None\n",
    "        attention_output_1 = self.attention_1(\n",
    "            inputs_q=inputs, inputs_v=inputs, inputs_k=inputs,  mask=causal_mask\n",
    "        )\n",
    "        out_1 = self.layernorm_1(inputs + attention_output_1)\n",
    "\n",
    "        attention_output_2 = self.attention_2( ## https://github.com/google/flax/blob/main/flax/nnx/nn/attention.py#L403-L405\n",
    "            inputs_q=out_1,\n",
    "            inputs_v=encoder_outputs,\n",
    "            inputs_k=encoder_outputs,\n",
    "            mask=padding_mask,\n",
    "        )\n",
    "        out_2 = self.layernorm_2(out_1 + attention_output_2)\n",
    "\n",
    "        proj_output = self.dense_proj(out_2)\n",
    "        return self.layernorm_3(out_2 + proj_output)\n",
    "\n",
    "    def get_causal_attention_mask(self, sequence_length):\n",
    "        i = jnp.arange(sequence_length)[:, None]\n",
    "        j = jnp.arange(sequence_length)\n",
    "        mask = (i >= j).astype(jnp.int32)\n",
    "        mask = jnp.reshape(mask, (1, 1, sequence_length, sequence_length))\n",
    "        return mask"
   ]
  },
  {
   "cell_type": "code",
   "execution_count": 14,
   "id": "c5dcfaf6-f5cd-40f4-bbf0-2754c0193327",
   "metadata": {},
   "outputs": [],
   "source": [
    "class TransformerModel(nnx.Module):\n",
    "    def __init__(self, sequence_length: int, vocab_size: int, embed_dim: int, latent_dim: int, num_heads: int, dropout_rate: float, rngs: nnx.Rngs):\n",
    "        self.sequence_length = sequence_length\n",
    "        self.vocab_size = vocab_size\n",
    "        self.embed_dim = embed_dim\n",
    "        self.latent_dim = latent_dim\n",
    "        self.num_heads = num_heads\n",
    "        self.dropout_rate = dropout_rate\n",
    "\n",
    "        self.encoder = TransformerEncoder(embed_dim, latent_dim, num_heads, rngs=rngs)\n",
    "        self.positional_embedding = PositionalEmbedding(sequence_length, vocab_size, embed_dim, rngs=rngs)\n",
    "        self.decoder = TransformerDecoder(embed_dim, latent_dim, num_heads, rngs=rngs)\n",
    "        self.dropout = nnx.Dropout(rate=dropout_rate, rngs=rngs)\n",
    "        self.dense = nnx.Linear(embed_dim, vocab_size, rngs=rngs)\n",
    "\n",
    "    def __call__(self, encoder_inputs: jnp.array, decoder_inputs: jnp.array, mask: jnp.array = None, deterministic: bool = False):\n",
    "        x = self.positional_embedding(encoder_inputs)\n",
    "        encoder_outputs = self.encoder(x, mask=mask)\n",
    "        \n",
    "        x = self.positional_embedding(decoder_inputs)\n",
    "        decoder_outputs = self.decoder(x, encoder_outputs, mask=mask)\n",
    "        # per nnx.Dropout - disable (deterministic=True) for eval, keep (False) for training\n",
    "        decoder_outputs = self.dropout(decoder_outputs, deterministic=deterministic)\n",
    "\n",
    "        logits = self.dense(decoder_outputs)\n",
    "        return logits"
   ]
  },
  {
   "cell_type": "markdown",
   "id": "1744cd95-afcc-4a82-9a00-18fef4f6f7df",
   "metadata": {},
   "source": [
    "## Build out Data Loader and Training Definitions\n",
    "It can be more computationally efficient to use pygrain for the data load stage, but this way it's abundandtly clear what's happening: data pairs go in and sets of jnp arrays come out, in step with our original dictionaries. 'Encoder_inputs', 'decoder_inputs' and 'target_output'."
   ]
  },
  {
   "cell_type": "code",
   "execution_count": 13,
   "id": "cf4a021a-ba3d-4f59-a476-f30a71146f6e",
   "metadata": {},
   "outputs": [],
   "source": [
    "class DataLoader:\n",
    "    def __init__(self, data, batch_size):\n",
    "        self.data = data\n",
    "        self.batch_size = batch_size\n",
    "        self.num_batches = len(data) // batch_size\n",
    "\n",
    "    def __iter__(self):\n",
    "        for i in range(self.num_batches):\n",
    "            batch = self.data[i * self.batch_size: (i + 1) * self.batch_size]\n",
    "            encoder_inputs = [item[\"encoder_inputs\"] for item in batch]\n",
    "            decoder_inputs = [item[\"decoder_inputs\"] for item in batch]\n",
    "            target_output = [item[\"target_output\"] for item in batch]\n",
    "            yield (jnp.array(encoder_inputs), jnp.array(decoder_inputs), jnp.array(target_output))"
   ]
  },
  {
   "cell_type": "markdown",
   "id": "d033ae31-cc43-4e61-8d7f-cdc6d55b8bf9",
   "metadata": {},
   "source": [
    "Here we finally use our earlier encoder, decoder, and positional embed classes to construct the Model that we'll train and later use for inference."
   ]
  },
  {
   "cell_type": "markdown",
   "id": "40d9707d-a73c-47f5-8c12-1f336e526e61",
   "metadata": {},
   "source": [
    "Optax doesn't have the identical loss function that the source tutorial uses, but this softmax cross entropy works well here - you can one_hot_encode if you don't use the `_with_integer_labels` version of the loss."
   ]
  },
  {
   "cell_type": "code",
   "execution_count": 15,
   "id": "d2f8e06f-1126-41cc-b8d8-de6bd7a5255a",
   "metadata": {},
   "outputs": [],
   "source": [
    "def compute_loss(logits, labels):\n",
    "    loss = optax.softmax_cross_entropy_with_integer_labels(logits=logits, labels=labels)\n",
    "    return jnp.mean(loss)"
   ]
  },
  {
   "cell_type": "markdown",
   "id": "0a1b625a-d9e7-4028-bc98-521ce1632450",
   "metadata": {},
   "source": [
    "While in the original tutorial most of the model and training details happen inside keras, we make them explicit here in our step functions, which are later used in `train_one_epoch` and `eval_model`."
   ]
  },
  {
   "cell_type": "code",
   "execution_count": 16,
   "id": "279d991f-f129-48b3-9b7e-d143019c18a8",
   "metadata": {},
   "outputs": [],
   "source": [
    "@nnx.jit\n",
    "def train_step(model, optimizer, batch):\n",
    "    def loss_fn(model, train_encoder_input, train_decoder_input, train_target_input):\n",
    "        logits = model(train_encoder_input, train_decoder_input)\n",
    "        loss = compute_loss(logits, train_target_input)\n",
    "        return loss\n",
    "\n",
    "    grad_fn = nnx.value_and_grad(loss_fn)\n",
    "    loss, grads = grad_fn(model, batch[0], batch[1], batch[2])\n",
    "    optimizer.update(grads)\n",
    "    return loss\n",
    "\n",
    "@nnx.jit\n",
    "def eval_step(model, batch, eval_metrics):\n",
    "    logits = model(batch[0], batch[1])\n",
    "    loss = compute_loss(logits, batch[2])\n",
    "    labels = batch[2]\n",
    "\n",
    "    eval_metrics.update(\n",
    "        loss=loss,\n",
    "        logits=logits,\n",
    "        labels=labels,\n",
    "    )    "
   ]
  },
  {
   "cell_type": "markdown",
   "id": "04e53ee9-6da1-431c-8b3f-f619d3fee68f",
   "metadata": {},
   "source": [
    "Here, `nnx.MultiMetric` helps us keep track of general training statistics, while we make our own dictionaries to hold historical values"
   ]
  },
  {
   "cell_type": "code",
   "execution_count": 17,
   "id": "32a17edc-33d0-41bc-a516-8b8ce45c3ad7",
   "metadata": {},
   "outputs": [],
   "source": [
    "eval_metrics = nnx.MultiMetric(\n",
    "    loss=nnx.metrics.Average('loss'),\n",
    "    accuracy=nnx.metrics.Accuracy(),\n",
    ")\n",
    "\n",
    "train_metrics_history = {\n",
    "    \"train_loss\": [],\n",
    "}\n",
    "\n",
    "eval_metrics_history = {\n",
    "    \"test_loss\": [],\n",
    "    \"test_accuracy\": [],\n",
    "}"
   ]
  },
  {
   "cell_type": "code",
   "execution_count": 18,
   "id": "1189a6a6-2cc6-4c87-9f87-b4b800a1513d",
   "metadata": {},
   "outputs": [],
   "source": [
    "## Hyperparameters\n",
    "rng = nnx.Rngs(0)\n",
    "embed_dim = 256\n",
    "latent_dim = 2048\n",
    "num_heads = 8\n",
    "dropout_rate = 0.5\n",
    "vocab_size = tokenizer.n_vocab\n",
    "sequence_length = 20\n",
    "batch_size = 256\n",
    "learning_rate = 1e-3\n",
    "momentum = 0.9\n",
    "num_epochs = 30"
   ]
  },
  {
   "cell_type": "code",
   "execution_count": 19,
   "id": "fbeb6101-be11-4a33-9650-a3efd3656855",
   "metadata": {},
   "outputs": [],
   "source": [
    "import tqdm\n",
    "\n",
    "bar_format = \"{desc}[{n_fmt}/{total_fmt}]{postfix} [{elapsed}<{remaining}]\"\n",
    "train_total_steps = len(train_data) // batch_size\n",
    "\n",
    "\n",
    "def train_one_epoch(epoch):\n",
    "    model.train()  # Set model to the training mode: e.g. update batch statistics\n",
    "    with tqdm.tqdm(\n",
    "        desc=f\"[train] epoch: {epoch}/{num_epochs}, \",\n",
    "        total=train_total_steps,\n",
    "        bar_format=bar_format,\n",
    "        leave=True,\n",
    "    ) as pbar:\n",
    "        for batch in train_loader:\n",
    "            loss = train_step(model, optimizer, batch)\n",
    "            train_metrics_history[\"train_loss\"].append(loss.item())\n",
    "            pbar.set_postfix({\"loss\": loss.item()})\n",
    "            pbar.update(1)\n",
    "\n",
    "\n",
    "def evaluate_model(epoch):\n",
    "    # Compute the metrics on the train and val sets after each training epoch.\n",
    "    model.eval()  # Set model to evaluation model: e.g. use stored batch statistics\n",
    "\n",
    "    eval_metrics.reset()  # Reset the eval metrics\n",
    "    for val_batch in val_loader:\n",
    "        eval_step(model, val_batch, eval_metrics)\n",
    "\n",
    "    for metric, value in eval_metrics.compute().items():\n",
    "        eval_metrics_history[f'test_{metric}'].append(value)\n",
    "\n",
    "    print(f\"[test] epoch: {epoch + 1}/{num_epochs}\")\n",
    "    print(f\"- total loss: {eval_metrics_history['test_loss'][-1]:0.4f}\")\n",
    "    print(f\"- Accuracy: {eval_metrics_history['test_accuracy'][-1]:0.4f}\")"
   ]
  },
  {
   "cell_type": "code",
   "execution_count": 20,
   "id": "49a1d33a-c2e4-4d48-821b-519f5c0192c7",
   "metadata": {},
   "outputs": [],
   "source": [
    "model = TransformerModel(sequence_length, vocab_size, embed_dim, latent_dim, num_heads, dropout_rate, rngs=rng)\n",
    "optimizer = nnx.Optimizer(model, optax.adam(learning_rate, momentum))\n",
    "\n",
    "train_loader = DataLoader(train_data, batch_size)\n",
    "val_loader = DataLoader(val_data, batch_size)\n",
    "test_loader = DataLoader(test_data, batch_size)"
   ]
  },
  {
   "cell_type": "markdown",
   "id": "fa7d5601-60c1-4131-a40c-c670f055ce68",
   "metadata": {},
   "source": [
    "## Start the Training!\n",
    "With our data loaders set and the model, optimizer, and epoch train/eval functions set up - time to finally press go - on a 3090, this is roughly 19GB VRAM and each epoch is roughly 25 seconds with batch_size set to 256."
   ]
  },
  {
   "cell_type": "code",
   "execution_count": 21,
   "id": "c764510c-4d98-46ad-b877-8cfc2fa5a9ea",
   "metadata": {},
   "outputs": [
    {
     "name": "stderr",
     "output_type": "stream",
     "text": [
      "[train] epoch: 0/30, [325/325], loss=1.5 [00:34<00:00] \n"
     ]
    },
    {
     "name": "stdout",
     "output_type": "stream",
     "text": [
      "[test] epoch: 1/30\n",
      "- total loss: 1.5372\n",
      "- Accuracy: 0.7465\n"
     ]
    },
    {
     "name": "stderr",
     "output_type": "stream",
     "text": [
      "[train] epoch: 1/30, [325/325], loss=0.975 [00:25<00:00]\n"
     ]
    },
    {
     "name": "stdout",
     "output_type": "stream",
     "text": [
      "[test] epoch: 2/30\n",
      "- total loss: 1.1067\n",
      "- Accuracy: 0.8040\n"
     ]
    },
    {
     "name": "stderr",
     "output_type": "stream",
     "text": [
      "[train] epoch: 2/30, [325/325], loss=0.763 [00:25<00:00]\n"
     ]
    },
    {
     "name": "stdout",
     "output_type": "stream",
     "text": [
      "[test] epoch: 3/30\n",
      "- total loss: 0.9740\n",
      "- Accuracy: 0.8232\n"
     ]
    },
    {
     "name": "stderr",
     "output_type": "stream",
     "text": [
      "[train] epoch: 3/30, [325/325], loss=0.625 [00:25<00:00]\n"
     ]
    },
    {
     "name": "stdout",
     "output_type": "stream",
     "text": [
      "[test] epoch: 4/30\n",
      "- total loss: 0.9252\n",
      "- Accuracy: 0.8322\n"
     ]
    },
    {
     "name": "stderr",
     "output_type": "stream",
     "text": [
      "[train] epoch: 4/30, [325/325], loss=0.541 [00:25<00:00]\n"
     ]
    },
    {
     "name": "stdout",
     "output_type": "stream",
     "text": [
      "[test] epoch: 5/30\n",
      "- total loss: 0.9016\n",
      "- Accuracy: 0.8372\n"
     ]
    },
    {
     "name": "stderr",
     "output_type": "stream",
     "text": [
      "[train] epoch: 5/30, [325/325], loss=0.493 [00:25<00:00]\n"
     ]
    },
    {
     "name": "stdout",
     "output_type": "stream",
     "text": [
      "[test] epoch: 6/30\n",
      "- total loss: 0.9002\n",
      "- Accuracy: 0.8403\n"
     ]
    },
    {
     "name": "stderr",
     "output_type": "stream",
     "text": [
      "[train] epoch: 6/30, [325/325], loss=0.419 [00:25<00:00]\n"
     ]
    },
    {
     "name": "stdout",
     "output_type": "stream",
     "text": [
      "[test] epoch: 7/30\n",
      "- total loss: 0.9047\n",
      "- Accuracy: 0.8412\n"
     ]
    },
    {
     "name": "stderr",
     "output_type": "stream",
     "text": [
      "[train] epoch: 7/30, [325/325], loss=0.39 [00:25<00:00] \n"
     ]
    },
    {
     "name": "stdout",
     "output_type": "stream",
     "text": [
      "[test] epoch: 8/30\n",
      "- total loss: 0.9118\n",
      "- Accuracy: 0.8426\n"
     ]
    },
    {
     "name": "stderr",
     "output_type": "stream",
     "text": [
      "[train] epoch: 8/30, [325/325], loss=0.339 [00:25<00:00]\n"
     ]
    },
    {
     "name": "stdout",
     "output_type": "stream",
     "text": [
      "[test] epoch: 9/30\n",
      "- total loss: 0.9216\n",
      "- Accuracy: 0.8441\n"
     ]
    },
    {
     "name": "stderr",
     "output_type": "stream",
     "text": [
      "[train] epoch: 9/30, [325/325], loss=0.317 [00:25<00:00]\n"
     ]
    },
    {
     "name": "stdout",
     "output_type": "stream",
     "text": [
      "[test] epoch: 10/30\n",
      "- total loss: 0.9347\n",
      "- Accuracy: 0.8444\n"
     ]
    },
    {
     "name": "stderr",
     "output_type": "stream",
     "text": [
      "[train] epoch: 10/30, [325/325], loss=0.299 [00:25<00:00]\n"
     ]
    },
    {
     "name": "stdout",
     "output_type": "stream",
     "text": [
      "[test] epoch: 11/30\n",
      "- total loss: 0.9699\n",
      "- Accuracy: 0.8438\n"
     ]
    },
    {
     "name": "stderr",
     "output_type": "stream",
     "text": [
      "[train] epoch: 11/30, [325/325], loss=0.278 [00:25<00:00]\n"
     ]
    },
    {
     "name": "stdout",
     "output_type": "stream",
     "text": [
      "[test] epoch: 12/30\n",
      "- total loss: 0.9727\n",
      "- Accuracy: 0.8459\n"
     ]
    },
    {
     "name": "stderr",
     "output_type": "stream",
     "text": [
      "[train] epoch: 12/30, [325/325], loss=0.258 [00:25<00:00]\n"
     ]
    },
    {
     "name": "stdout",
     "output_type": "stream",
     "text": [
      "[test] epoch: 13/30\n",
      "- total loss: 0.9894\n",
      "- Accuracy: 0.8463\n"
     ]
    },
    {
     "name": "stderr",
     "output_type": "stream",
     "text": [
      "[train] epoch: 13/30, [325/325], loss=0.242 [00:25<00:00]\n"
     ]
    },
    {
     "name": "stdout",
     "output_type": "stream",
     "text": [
      "[test] epoch: 14/30\n",
      "- total loss: 1.0019\n",
      "- Accuracy: 0.8460\n"
     ]
    },
    {
     "name": "stderr",
     "output_type": "stream",
     "text": [
      "[train] epoch: 14/30, [325/325], loss=0.227 [00:25<00:00]\n"
     ]
    },
    {
     "name": "stdout",
     "output_type": "stream",
     "text": [
      "[test] epoch: 15/30\n",
      "- total loss: 1.0252\n",
      "- Accuracy: 0.8453\n"
     ]
    },
    {
     "name": "stderr",
     "output_type": "stream",
     "text": [
      "[train] epoch: 15/30, [325/325], loss=0.21 [00:25<00:00] \n"
     ]
    },
    {
     "name": "stdout",
     "output_type": "stream",
     "text": [
      "[test] epoch: 16/30\n",
      "- total loss: 1.0493\n",
      "- Accuracy: 0.8450\n"
     ]
    },
    {
     "name": "stderr",
     "output_type": "stream",
     "text": [
      "[train] epoch: 16/30, [325/325], loss=0.21 [00:25<00:00] \n"
     ]
    },
    {
     "name": "stdout",
     "output_type": "stream",
     "text": [
      "[test] epoch: 17/30\n",
      "- total loss: 1.0579\n",
      "- Accuracy: 0.8473\n"
     ]
    },
    {
     "name": "stderr",
     "output_type": "stream",
     "text": [
      "[train] epoch: 17/30, [325/325], loss=0.194 [00:25<00:00]\n"
     ]
    },
    {
     "name": "stdout",
     "output_type": "stream",
     "text": [
      "[test] epoch: 18/30\n",
      "- total loss: 1.0818\n",
      "- Accuracy: 0.8462\n"
     ]
    },
    {
     "name": "stderr",
     "output_type": "stream",
     "text": [
      "[train] epoch: 18/30, [325/325], loss=0.174 [00:25<00:00]\n"
     ]
    },
    {
     "name": "stdout",
     "output_type": "stream",
     "text": [
      "[test] epoch: 19/30\n",
      "- total loss: 1.0935\n",
      "- Accuracy: 0.8471\n"
     ]
    },
    {
     "name": "stderr",
     "output_type": "stream",
     "text": [
      "[train] epoch: 19/30, [325/325], loss=0.191 [00:25<00:00]\n"
     ]
    },
    {
     "name": "stdout",
     "output_type": "stream",
     "text": [
      "[test] epoch: 20/30\n",
      "- total loss: 1.1114\n",
      "- Accuracy: 0.8469\n"
     ]
    },
    {
     "name": "stderr",
     "output_type": "stream",
     "text": [
      "[train] epoch: 20/30, [325/325], loss=0.173 [00:25<00:00]\n"
     ]
    },
    {
     "name": "stdout",
     "output_type": "stream",
     "text": [
      "[test] epoch: 21/30\n",
      "- total loss: 1.1276\n",
      "- Accuracy: 0.8478\n"
     ]
    },
    {
     "name": "stderr",
     "output_type": "stream",
     "text": [
      "[train] epoch: 21/30, [325/325], loss=0.169 [00:25<00:00]\n"
     ]
    },
    {
     "name": "stdout",
     "output_type": "stream",
     "text": [
      "[test] epoch: 22/30\n",
      "- total loss: 1.1431\n",
      "- Accuracy: 0.8474\n"
     ]
    },
    {
     "name": "stderr",
     "output_type": "stream",
     "text": [
      "[train] epoch: 22/30, [325/325], loss=0.149 [00:25<00:00]\n"
     ]
    },
    {
     "name": "stdout",
     "output_type": "stream",
     "text": [
      "[test] epoch: 23/30\n",
      "- total loss: 1.1375\n",
      "- Accuracy: 0.8473\n"
     ]
    },
    {
     "name": "stderr",
     "output_type": "stream",
     "text": [
      "[train] epoch: 23/30, [325/325], loss=0.152 [00:25<00:00]\n"
     ]
    },
    {
     "name": "stdout",
     "output_type": "stream",
     "text": [
      "[test] epoch: 24/30\n",
      "- total loss: 1.1580\n",
      "- Accuracy: 0.8450\n"
     ]
    },
    {
     "name": "stderr",
     "output_type": "stream",
     "text": [
      "[train] epoch: 24/30, [325/325], loss=0.136 [00:25<00:00]\n"
     ]
    },
    {
     "name": "stdout",
     "output_type": "stream",
     "text": [
      "[test] epoch: 25/30\n",
      "- total loss: 1.1755\n",
      "- Accuracy: 0.8465\n"
     ]
    },
    {
     "name": "stderr",
     "output_type": "stream",
     "text": [
      "[train] epoch: 25/30, [325/325], loss=0.142 [00:25<00:00]\n"
     ]
    },
    {
     "name": "stdout",
     "output_type": "stream",
     "text": [
      "[test] epoch: 26/30\n",
      "- total loss: 1.1788\n",
      "- Accuracy: 0.8464\n"
     ]
    },
    {
     "name": "stderr",
     "output_type": "stream",
     "text": [
      "[train] epoch: 26/30, [325/325], loss=0.131 [00:25<00:00]\n"
     ]
    },
    {
     "name": "stdout",
     "output_type": "stream",
     "text": [
      "[test] epoch: 27/30\n",
      "- total loss: 1.1899\n",
      "- Accuracy: 0.8486\n"
     ]
    },
    {
     "name": "stderr",
     "output_type": "stream",
     "text": [
      "[train] epoch: 27/30, [325/325], loss=0.141 [00:25<00:00]\n"
     ]
    },
    {
     "name": "stdout",
     "output_type": "stream",
     "text": [
      "[test] epoch: 28/30\n",
      "- total loss: 1.1999\n",
      "- Accuracy: 0.8482\n"
     ]
    },
    {
     "name": "stderr",
     "output_type": "stream",
     "text": [
      "[train] epoch: 28/30, [325/325], loss=0.126 [00:25<00:00]\n"
     ]
    },
    {
     "name": "stdout",
     "output_type": "stream",
     "text": [
      "[test] epoch: 29/30\n",
      "- total loss: 1.2169\n",
      "- Accuracy: 0.8473\n"
     ]
    },
    {
     "name": "stderr",
     "output_type": "stream",
     "text": [
      "[train] epoch: 29/30, [325/325], loss=0.116 [00:25<00:00]\n"
     ]
    },
    {
     "name": "stdout",
     "output_type": "stream",
     "text": [
      "[test] epoch: 30/30\n",
      "- total loss: 1.2074\n",
      "- Accuracy: 0.8476\n"
     ]
    }
   ],
   "source": [
    "for epoch in range(num_epochs):\n",
    "    train_one_epoch(epoch)\n",
    "    evaluate_model(epoch)"
   ]
  },
  {
   "cell_type": "markdown",
   "id": "f922eac4-8338-4a0d-bc6d-1f5880079bde",
   "metadata": {},
   "source": [
    "We can then plot the loss over training time. That log-plot comes in handy here, or it's hard to appreciate the progress after 1000 steps or so."
   ]
  },
  {
   "cell_type": "code",
   "execution_count": 22,
   "id": "a79ecfa5-d74a-4956-9ee2-cbed86d5a82f",
   "metadata": {},
   "outputs": [
    {
     "data": {
      "text/plain": [
       "<matplotlib.legend.Legend at 0x7d2c80291c10>"
      ]
     },
     "execution_count": 22,
     "metadata": {},
     "output_type": "execute_result"
    },
    {
     "data": {
      "image/png": "[encoded data removed]",
      "text/plain": [
       "<Figure size 640x480 with 1 Axes>"
      ]
     },
     "metadata": {},
     "output_type": "display_data"
    }
   ],
   "source": [
    "import matplotlib.pyplot as plt\n",
    "\n",
    "plt.plot(train_metrics_history[\"train_loss\"], label=\"Loss value during the training\")\n",
    "plt.yscale('log')\n",
    "plt.legend()"
   ]
  },
  {
   "cell_type": "markdown",
   "id": "66250bf2-3d88-40ad-87e3-7d2b906fd860",
   "metadata": {},
   "source": [
    "And eval set Loss and Accuracy - Accuracy does continue to rise, though it's hard-earned progress. Based on the training statistics, it's fair to say the process is laregly overfitting after roughly the 5th epoch."
   ]
  },
  {
   "cell_type": "code",
   "execution_count": 28,
   "id": "64d54051-358b-4de8-b5b3-04bebf18018f",
   "metadata": {},
   "outputs": [
    {
     "data": {
      "text/plain": [
       "[<matplotlib.lines.Line2D at 0x7d2c7a0d8fd0>]"
      ]
     },
     "execution_count": 28,
     "metadata": {},
     "output_type": "execute_result"
    },
    {
     "data": {
      "image/png": "[encoded data removed]",
      "text/plain": [
       "<Figure size 1000x1000 with 2 Axes>"
      ]
     },
     "metadata": {},
     "output_type": "display_data"
    }
   ],
   "source": [
    "fig, axs = plt.subplots(1, 2, figsize=(10, 10))\n",
    "axs[0].set_title(\"Loss value on eval set\")\n",
    "axs[0].plot(eval_metrics_history[\"test_loss\"])\n",
    "axs[1].set_title(\"Accuracy on eval set\")\n",
    "axs[1].plot(eval_metrics_history[\"test_accuracy\"])"
   ]
  },
  {
   "cell_type": "markdown",
   "id": "a3f7b0ad-ddfa-4ab3-b56f-6ea99385ff6a",
   "metadata": {},
   "source": [
    "## Use Model for Inference\n",
    "After all that, the product of what we were working for: a trained model we can save and load for inference. For people using LLMs recently, this pattern may look rather familiar: an input sentence tokenized into an array and computed 'next' token-by-token. While many recent LLMs are decoder-only, this was an encoder/decoder architecture with the very specific english-to-spanish pattern baked in.\n",
    "\n",
    "We've changed a couple things from the source 'use' function, here - because of the tokenizer used, things like `[start]` and `[end]` are no longer single tokens - instead `[start]` is `[29563, 60] = \"[start\" + \"]\"` and `[end]` is `[58308, 60] = \"[end\" + \"]\"` - thus we start with only a single token `[start` and can't only test on `last_token = \"[end\"]`. Otherwise, the main change here is that the input is assumed a single sentence, rather than batch inference."
   ]
  },
  {
   "cell_type": "code",
   "execution_count": 29,
   "id": "e4589706-cfd6-4efb-9975-bfa0df75d4f0",
   "metadata": {},
   "outputs": [],
   "source": [
    "def decode_sequence(input_sentence):\n",
    "\n",
    "    input_sentence = custom_standardization(input_sentence)\n",
    "    tokenized_input_sentence = tokenize_and_pad(input_sentence, tokenizer, sequence_length)\n",
    "    \n",
    "    decoded_sentence = \"[start\"\n",
    "    for i in range(sequence_length):\n",
    "        tokenized_target_sentence = tokenize_and_pad(decoded_sentence, tokenizer, sequence_length)[:-1]\n",
    "        predictions = model(jnp.array([tokenized_input_sentence]), jnp.array([tokenized_target_sentence]))\n",
    "\n",
    "        sampled_token_index = np.argmax(predictions[0,i, :]).item(0)\n",
    "        sampled_token = tokenizer.decode([sampled_token_index])\n",
    "        decoded_sentence += \"\" + sampled_token\n",
    "\n",
    "        if decoded_sentence[-5:] == \"[end]\":\n",
    "            break\n",
    "    return decoded_sentence"
   ]
  },
  {
   "cell_type": "code",
   "execution_count": 30,
   "id": "554c2f72-0bd3-4ed1-804b-5f1a4cc13851",
   "metadata": {},
   "outputs": [],
   "source": [
    "test_eng_texts = [pair[0] for pair in test_pairs]"
   ]
  },
  {
   "cell_type": "code",
   "execution_count": 33,
   "id": "c1d6edbb-af89-42c9-90c3-d61612b75da3",
   "metadata": {},
   "outputs": [],
   "source": [
    "test_result_pairs = []\n",
    "for _ in range(10):\n",
    "    input_sentence = random.choice(test_eng_texts)\n",
    "    translated = decode_sequence(input_sentence)\n",
    "    \n",
    "    test_result_pairs.append(f\"[Input]: {input_sentence} [Translation]: {translated}\") "
   ]
  },
  {
   "cell_type": "markdown",
   "id": "258c2172-5a0f-4dee-9b21-f65433183c62",
   "metadata": {},
   "source": [
    "## Test Results\n",
    "For the model and the data, not too shabby - It's definitely spanish-ish. Though when 'making' friends, please don't confuse 'hacer' (to make) with 'comer' (to eat)."
   ]
  },
  {
   "cell_type": "code",
   "execution_count": 34,
   "id": "4f0ae018-b7cd-4849-b245-c5c647ad1a95",
   "metadata": {},
   "outputs": [
    {
     "name": "stdout",
     "output_type": "stream",
     "text": [
      "[Input]: We're going to have a baby. [Translation]: [start] nosotros vamos a tener un bebé [end]\n",
      "[Input]: You drive too fast. [Translation]: [start] conducís demasiado rápido [end]\n",
      "[Input]: Let me know if there's anything I can do. [Translation]: [start] déjame saber si hay cualquier cosa que yo pueda hacer [end]\n",
      "[Input]: Let's go to the kitchen. [Translation]: [start] vayamos a la cocina [end]\n",
      "[Input]: Tom gasped. [Translation]: [start] tom se quedó sin aliento [end]\n",
      "[Input]: I was just hanging out with some of my friends. [Translation]: [start] estaba escquieto con algunos de mi amigos [end]\n",
      "[Input]: Tom is in the bathroom. [Translation]: [start] tom está en el cuarto de baño [end]\n",
      "[Input]: I feel safe here. [Translation]: [start] me siento segura [end]\n",
      "[Input]: I'm going to need you later. [Translation]: [start] me voy a necesitar después [end]\n",
      "[Input]: A party is a good place to make friends with other people. [Translation]: [start] una fiesta es un buen lugar de comer amigos con otras personas [end]\n"
     ]
    }
   ],
   "source": [
    "for i in test_result_pairs:\n",
    "    print(i)"
   ]
  },
  {
   "cell_type": "markdown",
   "id": "5ca18d4c-b3c0-4abb-b5fc-fc96a2264b53",
   "metadata": {},
   "source": [
    "Example output from the above cell:\n",
    "\n",
    "      [Input]: We're going to have a baby. [Translation]: [start] nosotros vamos a tener un bebé [end]\n",
    "      [Input]: You drive too fast. [Translation]: [start] conducís demasiado rápido [end]\n",
    "      [Input]: Let me know if there's anything I can do. [Translation]: [start] déjame saber si hay cualquier cosa que yo pueda hacer [end]\n",
    "      [Input]: Let's go to the kitchen. [Translation]: [start] vayamos a la cocina [end]\n",
    "      [Input]: Tom gasped. [Translation]: [start] tom se quedó sin aliento [end]\n",
    "      [Input]: I was just hanging out with some of my friends. [Translation]: [start] estaba escquieto con algunos de mi amigos [end]\n",
    "      [Input]: Tom is in the bathroom. [Translation]: [start] tom está en el cuarto de baño [end]\n",
    "      [Input]: I feel safe here. [Translation]: [start] me siento segura [end]\n",
    "      [Input]: I'm going to need you later. [Translation]: [start] me voy a necesitar después [end]\n",
    "      [Input]: A party is a good place to make friends with other people. [Translation]: [start] una fiesta es un buen lugar de comer amigos con otras personas [end]"
   ]
  }
 ],
 "metadata": {
  "jupytext": {
   "formats": "ipynb,md:myst"
  },
  "kernelspec": {
   "display_name": "Python 3 (ipykernel)",
   "language": "python",
   "name": "python3"
  },
  "language_info": {
   "codemirror_mode": {
    "name": "ipython",
    "version": 3
   },
   "file_extension": ".py",
   "mimetype": "text/x-python",
   "name": "python",
   "nbconvert_exporter": "python",
   "pygments_lexer": "ipython3",
   "version": "3.11.10"
  }
 },
 "nbformat": 4,
 "nbformat_minor": 5
}
